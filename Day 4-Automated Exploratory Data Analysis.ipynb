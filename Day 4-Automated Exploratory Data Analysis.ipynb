{
 "cells": [
  {
   "cell_type": "code",
   "execution_count": 13,
   "id": "e87bd63a",
   "metadata": {},
   "outputs": [
    {
     "name": "stdout",
     "output_type": "stream",
     "text": [
      "Collecting markupsafe==2.0.1Note: you may need to restart the kernel to use updated packages.\n",
      "  Using cached MarkupSafe-2.0.1-cp39-cp39-win_amd64.whl (14 kB)\n",
      "Installing collected packages: markupsafe\n",
      "  Attempting uninstall: markupsafe\n",
      "    Found existing installation: MarkupSafe 2.1.1\n",
      "    Uninstalling MarkupSafe-2.1.1:\n",
      "      Successfully uninstalled MarkupSafe-2.1.1\n",
      "Successfully installed markupsafe-2.0.1\n",
      "\n"
     ]
    },
    {
     "name": "stderr",
     "output_type": "stream",
     "text": [
      "ERROR: pip's dependency resolver does not currently take into account all the packages that are installed. This behaviour is the source of the following dependency conflicts.\n",
      "anaconda-project 0.10.1 requires ruamel-yaml, which is not installed.\n",
      "pandas-profiling 3.2.0 requires markupsafe~=2.1.1, but you have markupsafe 2.0.1 which is incompatible.\n",
      "cookiecutter 1.7.2 requires MarkupSafe<2.0.0, but you have markupsafe 2.0.1 which is incompatible.\n"
     ]
    }
   ],
   "source": [
    "pip install markupsafe==2.0.1"
   ]
  },
  {
   "cell_type": "code",
   "execution_count": 2,
   "id": "5883b41d",
   "metadata": {},
   "outputs": [
    {
     "name": "stdout",
     "output_type": "stream",
     "text": [
      "Requirement already satisfied: pandas_profiling in c:\\users\\atanu\\anaconda3\\lib\\site-packages (3.2.0)"
     ]
    },
    {
     "name": "stderr",
     "output_type": "stream",
     "text": [
      "ERROR: pip's dependency resolver does not currently take into account all the packages that are installed. This behaviour is the source of the following dependency conflicts.\n",
      "anaconda-project 0.10.1 requires ruamel-yaml, which is not installed.\n",
      "cookiecutter 1.7.2 requires MarkupSafe<2.0.0, but you have markupsafe 2.1.1 which is incompatible.\n"
     ]
    },
    {
     "name": "stdout",
     "output_type": "stream",
     "text": [
      "\n",
      "Requirement already satisfied: pandas!=1.0.0,!=1.0.1,!=1.0.2,!=1.1.0,>=0.25.3 in c:\\users\\atanu\\anaconda3\\lib\\site-packages (from pandas_profiling) (1.3.4)\n",
      "Requirement already satisfied: missingno>=0.4.2 in c:\\users\\atanu\\anaconda3\\lib\\site-packages (from pandas_profiling) (0.5.1)\n",
      "Requirement already satisfied: tangled-up-in-unicode==0.2.0 in c:\\users\\atanu\\anaconda3\\lib\\site-packages (from pandas_profiling) (0.2.0)\n",
      "Requirement already satisfied: htmlmin>=0.1.12 in c:\\users\\atanu\\anaconda3\\lib\\site-packages (from pandas_profiling) (0.1.12)\n",
      "Requirement already satisfied: visions[type_image_path]==0.7.4 in c:\\users\\atanu\\anaconda3\\lib\\site-packages (from pandas_profiling) (0.7.4)\n",
      "Requirement already satisfied: matplotlib>=3.2.0 in c:\\users\\atanu\\anaconda3\\lib\\site-packages (from pandas_profiling) (3.4.3)\n",
      "Requirement already satisfied: requests>=2.24.0 in c:\\users\\atanu\\anaconda3\\lib\\site-packages (from pandas_profiling) (2.26.0)\n",
      "Requirement already satisfied: jinja2>=2.11.1 in c:\\users\\atanu\\anaconda3\\lib\\site-packages (from pandas_profiling) (2.11.3)\n",
      "Requirement already satisfied: scipy>=1.4.1 in c:\\users\\atanu\\anaconda3\\lib\\site-packages (from pandas_profiling) (1.7.1)\n",
      "Requirement already satisfied: PyYAML>=5.0.0 in c:\\users\\atanu\\anaconda3\\lib\\site-packages (from pandas_profiling) (6.0)\n",
      "Requirement already satisfied: multimethod>=1.4 in c:\\users\\atanu\\anaconda3\\lib\\site-packages (from pandas_profiling) (1.8)\n",
      "Requirement already satisfied: pydantic>=1.8.1 in c:\\users\\atanu\\anaconda3\\lib\\site-packages (from pandas_profiling) (1.9.1)\n",
      "Requirement already satisfied: joblib~=1.1.0 in c:\\users\\atanu\\anaconda3\\lib\\site-packages (from pandas_profiling) (1.1.0)\n",
      "Requirement already satisfied: numpy>=1.16.0 in c:\\users\\atanu\\anaconda3\\lib\\site-packages (from pandas_profiling) (1.20.3)\n",
      "Requirement already satisfied: tqdm>=4.48.2 in c:\\users\\atanu\\anaconda3\\lib\\site-packages (from pandas_profiling) (4.62.3)\n",
      "Collecting markupsafe~=2.1.1\n",
      "  Using cached MarkupSafe-2.1.1-cp39-cp39-win_amd64.whl (17 kB)\n",
      "Requirement already satisfied: phik>=0.11.1 in c:\\users\\atanu\\anaconda3\\lib\\site-packages (from pandas_profiling) (0.12.2)\n",
      "Requirement already satisfied: seaborn>=0.10.1 in c:\\users\\atanu\\anaconda3\\lib\\site-packages (from pandas_profiling) (0.11.2)\n",
      "Requirement already satisfied: networkx>=2.4 in c:\\users\\atanu\\anaconda3\\lib\\site-packages (from visions[type_image_path]==0.7.4->pandas_profiling) (2.6.3)\n",
      "Requirement already satisfied: attrs>=19.3.0 in c:\\users\\atanu\\anaconda3\\lib\\site-packages (from visions[type_image_path]==0.7.4->pandas_profiling) (21.2.0)\n",
      "Requirement already satisfied: imagehash in c:\\users\\atanu\\anaconda3\\lib\\site-packages (from visions[type_image_path]==0.7.4->pandas_profiling) (4.2.1)\n",
      "Requirement already satisfied: Pillow in c:\\users\\atanu\\anaconda3\\lib\\site-packages (from visions[type_image_path]==0.7.4->pandas_profiling) (8.4.0)\n",
      "Requirement already satisfied: kiwisolver>=1.0.1 in c:\\users\\atanu\\anaconda3\\lib\\site-packages (from matplotlib>=3.2.0->pandas_profiling) (1.3.1)\n",
      "Requirement already satisfied: cycler>=0.10 in c:\\users\\atanu\\anaconda3\\lib\\site-packages (from matplotlib>=3.2.0->pandas_profiling) (0.10.0)\n",
      "Requirement already satisfied: pyparsing>=2.2.1 in c:\\users\\atanu\\anaconda3\\lib\\site-packages (from matplotlib>=3.2.0->pandas_profiling) (3.0.4)\n",
      "Requirement already satisfied: python-dateutil>=2.7 in c:\\users\\atanu\\anaconda3\\lib\\site-packages (from matplotlib>=3.2.0->pandas_profiling) (2.8.2)\n",
      "Requirement already satisfied: six in c:\\users\\atanu\\anaconda3\\lib\\site-packages (from cycler>=0.10->matplotlib>=3.2.0->pandas_profiling) (1.16.0)\n",
      "Requirement already satisfied: pytz>=2017.3 in c:\\users\\atanu\\anaconda3\\lib\\site-packages (from pandas!=1.0.0,!=1.0.1,!=1.0.2,!=1.1.0,>=0.25.3->pandas_profiling) (2021.3)\n",
      "Requirement already satisfied: typing-extensions>=3.7.4.3 in c:\\users\\atanu\\anaconda3\\lib\\site-packages (from pydantic>=1.8.1->pandas_profiling) (3.10.0.2)\n",
      "Requirement already satisfied: charset-normalizer~=2.0.0 in c:\\users\\atanu\\anaconda3\\lib\\site-packages (from requests>=2.24.0->pandas_profiling) (2.0.4)\n",
      "Requirement already satisfied: idna<4,>=2.5 in c:\\users\\atanu\\anaconda3\\lib\\site-packages (from requests>=2.24.0->pandas_profiling) (3.2)\n",
      "Requirement already satisfied: urllib3<1.27,>=1.21.1 in c:\\users\\atanu\\anaconda3\\lib\\site-packages (from requests>=2.24.0->pandas_profiling) (1.26.7)\n",
      "Requirement already satisfied: certifi>=2017.4.17 in c:\\users\\atanu\\anaconda3\\lib\\site-packages (from requests>=2.24.0->pandas_profiling) (2021.10.8)\n",
      "Requirement already satisfied: colorama in c:\\users\\atanu\\anaconda3\\lib\\site-packages (from tqdm>=4.48.2->pandas_profiling) (0.4.4)\n",
      "Requirement already satisfied: PyWavelets in c:\\users\\atanu\\anaconda3\\lib\\site-packages (from imagehash->visions[type_image_path]==0.7.4->pandas_profiling) (1.1.1)\n",
      "Installing collected packages: markupsafe\n",
      "  Attempting uninstall: markupsafe\n",
      "    Found existing installation: MarkupSafe 2.0.1\n",
      "    Uninstalling MarkupSafe-2.0.1:\n",
      "      Successfully uninstalled MarkupSafe-2.0.1\n",
      "Successfully installed markupsafe-2.1.1\n"
     ]
    }
   ],
   "source": [
    "## Automated EDA Techniques\n",
    "!pip install pandas_profiling"
   ]
  },
  {
   "cell_type": "code",
   "execution_count": 2,
   "id": "61274414",
   "metadata": {},
   "outputs": [],
   "source": [
    "import pandas_profiling"
   ]
  },
  {
   "cell_type": "code",
   "execution_count": 3,
   "id": "150f1306",
   "metadata": {},
   "outputs": [],
   "source": [
    "import seaborn as sns"
   ]
  },
  {
   "cell_type": "code",
   "execution_count": 5,
   "id": "484807a8",
   "metadata": {},
   "outputs": [],
   "source": [
    "df=sns.load_dataset('tips')"
   ]
  },
  {
   "cell_type": "code",
   "execution_count": 6,
   "id": "635fb2b6",
   "metadata": {},
   "outputs": [
    {
     "data": {
      "text/html": [
       "<div>\n",
       "<style scoped>\n",
       "    .dataframe tbody tr th:only-of-type {\n",
       "        vertical-align: middle;\n",
       "    }\n",
       "\n",
       "    .dataframe tbody tr th {\n",
       "        vertical-align: top;\n",
       "    }\n",
       "\n",
       "    .dataframe thead th {\n",
       "        text-align: right;\n",
       "    }\n",
       "</style>\n",
       "<table border=\"1\" class=\"dataframe\">\n",
       "  <thead>\n",
       "    <tr style=\"text-align: right;\">\n",
       "      <th></th>\n",
       "      <th>total_bill</th>\n",
       "      <th>tip</th>\n",
       "      <th>sex</th>\n",
       "      <th>smoker</th>\n",
       "      <th>day</th>\n",
       "      <th>time</th>\n",
       "      <th>size</th>\n",
       "    </tr>\n",
       "  </thead>\n",
       "  <tbody>\n",
       "    <tr>\n",
       "      <th>0</th>\n",
       "      <td>16.99</td>\n",
       "      <td>1.01</td>\n",
       "      <td>Female</td>\n",
       "      <td>No</td>\n",
       "      <td>Sun</td>\n",
       "      <td>Dinner</td>\n",
       "      <td>2</td>\n",
       "    </tr>\n",
       "    <tr>\n",
       "      <th>1</th>\n",
       "      <td>10.34</td>\n",
       "      <td>1.66</td>\n",
       "      <td>Male</td>\n",
       "      <td>No</td>\n",
       "      <td>Sun</td>\n",
       "      <td>Dinner</td>\n",
       "      <td>3</td>\n",
       "    </tr>\n",
       "    <tr>\n",
       "      <th>2</th>\n",
       "      <td>21.01</td>\n",
       "      <td>3.50</td>\n",
       "      <td>Male</td>\n",
       "      <td>No</td>\n",
       "      <td>Sun</td>\n",
       "      <td>Dinner</td>\n",
       "      <td>3</td>\n",
       "    </tr>\n",
       "    <tr>\n",
       "      <th>3</th>\n",
       "      <td>23.68</td>\n",
       "      <td>3.31</td>\n",
       "      <td>Male</td>\n",
       "      <td>No</td>\n",
       "      <td>Sun</td>\n",
       "      <td>Dinner</td>\n",
       "      <td>2</td>\n",
       "    </tr>\n",
       "    <tr>\n",
       "      <th>4</th>\n",
       "      <td>24.59</td>\n",
       "      <td>3.61</td>\n",
       "      <td>Female</td>\n",
       "      <td>No</td>\n",
       "      <td>Sun</td>\n",
       "      <td>Dinner</td>\n",
       "      <td>4</td>\n",
       "    </tr>\n",
       "  </tbody>\n",
       "</table>\n",
       "</div>"
      ],
      "text/plain": [
       "   total_bill   tip     sex smoker  day    time  size\n",
       "0       16.99  1.01  Female     No  Sun  Dinner     2\n",
       "1       10.34  1.66    Male     No  Sun  Dinner     3\n",
       "2       21.01  3.50    Male     No  Sun  Dinner     3\n",
       "3       23.68  3.31    Male     No  Sun  Dinner     2\n",
       "4       24.59  3.61  Female     No  Sun  Dinner     4"
      ]
     },
     "execution_count": 6,
     "metadata": {},
     "output_type": "execute_result"
    }
   ],
   "source": [
    "df.head()"
   ]
  },
  {
   "cell_type": "code",
   "execution_count": 7,
   "id": "4d84fa03",
   "metadata": {},
   "outputs": [],
   "source": [
    "from pandas_profiling import ProfileReport"
   ]
  },
  {
   "cell_type": "code",
   "execution_count": 8,
   "id": "db20fa49",
   "metadata": {},
   "outputs": [],
   "source": [
    "profile=ProfileReport(df,explorative=True,dark_mode=True)"
   ]
  },
  {
   "cell_type": "code",
   "execution_count": 10,
   "id": "5b52e781",
   "metadata": {},
   "outputs": [
    {
     "data": {
      "application/vnd.jupyter.widget-view+json": {
       "model_id": "956713d8e9de4ed58f33620ece2c3cae",
       "version_major": 2,
       "version_minor": 0
      },
      "text/plain": [
       "Summarize dataset:   0%|          | 0/5 [00:00<?, ?it/s]"
      ]
     },
     "metadata": {},
     "output_type": "display_data"
    },
    {
     "data": {
      "application/vnd.jupyter.widget-view+json": {
       "model_id": "98c79eb210f147b08bcdfd7a004c1046",
       "version_major": 2,
       "version_minor": 0
      },
      "text/plain": [
       "Generate report structure:   0%|          | 0/1 [00:00<?, ?it/s]"
      ]
     },
     "metadata": {},
     "output_type": "display_data"
    },
    {
     "data": {
      "application/vnd.jupyter.widget-view+json": {
       "model_id": "50a42a19676840c5b9a3f215a52bb12b",
       "version_major": 2,
       "version_minor": 0
      },
      "text/plain": [
       "Render HTML:   0%|          | 0/1 [00:00<?, ?it/s]"
      ]
     },
     "metadata": {},
     "output_type": "display_data"
    },
    {
     "data": {
      "application/vnd.jupyter.widget-view+json": {
       "model_id": "83163a2743ab4a44b4370434a4377e2d",
       "version_major": 2,
       "version_minor": 0
      },
      "text/plain": [
       "Export report to file:   0%|          | 0/1 [00:00<?, ?it/s]"
      ]
     },
     "metadata": {},
     "output_type": "display_data"
    }
   ],
   "source": [
    "profile.to_file('output.html')"
   ]
  },
  {
   "cell_type": "code",
   "execution_count": 11,
   "id": "e849f559",
   "metadata": {},
   "outputs": [
    {
     "name": "stdout",
     "output_type": "stream",
     "text": [
      "Collecting dtale\n",
      "  Downloading dtale-2.8.1-py2.py3-none-any.whl (12.8 MB)\n",
      "Requirement already satisfied: plotly>=5.0.0 in c:\\users\\atanu\\anaconda3\\lib\\site-packages (from dtale) (5.9.0)\n",
      "Requirement already satisfied: scipy in c:\\users\\atanu\\anaconda3\\lib\\site-packages (from dtale) (1.7.1)\n",
      "Collecting xarray\n",
      "  Downloading xarray-2022.6.0-py3-none-any.whl (927 kB)\n",
      "Collecting Flask-Compress\n",
      "  Downloading Flask_Compress-1.13-py3-none-any.whl (7.9 kB)\n",
      "Requirement already satisfied: scikit-learn in c:\\users\\atanu\\anaconda3\\lib\\site-packages (from dtale) (0.24.2)\n",
      "Requirement already satisfied: et-xmlfile in c:\\users\\atanu\\anaconda3\\lib\\site-packages (from dtale) (1.1.0)\n",
      "Collecting squarify\n",
      "  Downloading squarify-0.4.3-py3-none-any.whl (4.3 kB)"
     ]
    },
    {
     "name": "stderr",
     "output_type": "stream",
     "text": [
      "ERROR: pip's dependency resolver does not currently take into account all the packages that are installed. This behaviour is the source of the following dependency conflicts.\n",
      "pandas-profiling 3.2.0 requires markupsafe~=2.1.1, but you have markupsafe 2.0.1 which is incompatible.\n"
     ]
    },
    {
     "name": "stdout",
     "output_type": "stream",
     "text": [
      "\n",
      "Requirement already satisfied: numpy in c:\\users\\atanu\\anaconda3\\lib\\site-packages (from dtale) (1.20.3)\n",
      "Requirement already satisfied: itsdangerous in c:\\users\\atanu\\anaconda3\\lib\\site-packages (from dtale) (2.0.1)\n",
      "Requirement already satisfied: certifi in c:\\users\\atanu\\anaconda3\\lib\\site-packages (from dtale) (2021.10.8)\n",
      "Requirement already satisfied: matplotlib in c:\\users\\atanu\\anaconda3\\lib\\site-packages (from dtale) (3.4.3)\n",
      "Requirement already satisfied: statsmodels in c:\\users\\atanu\\anaconda3\\lib\\site-packages (from dtale) (0.12.2)\n",
      "Requirement already satisfied: future>=0.14.0 in c:\\users\\atanu\\anaconda3\\lib\\site-packages (from dtale) (0.18.2)\n",
      "Collecting missingno<=0.4.2\n",
      "  Downloading missingno-0.4.2-py3-none-any.whl (9.7 kB)\n",
      "Requirement already satisfied: six in c:\\users\\atanu\\anaconda3\\lib\\site-packages (from dtale) (1.16.0)\n",
      "Requirement already satisfied: seaborn in c:\\users\\atanu\\anaconda3\\lib\\site-packages (from dtale) (0.11.2)\n",
      "Requirement already satisfied: xlrd in c:\\users\\atanu\\anaconda3\\lib\\site-packages (from dtale) (2.0.1)\n",
      "Collecting flask-ngrok\n",
      "  Downloading flask_ngrok-0.0.25-py3-none-any.whl (3.1 kB)\n",
      "Collecting dash>=2.0.0\n",
      "  Downloading dash-2.6.1-py3-none-any.whl (9.9 MB)\n",
      "Collecting strsimpy\n",
      "  Downloading strsimpy-0.2.1-py3-none-any.whl (45 kB)\n",
      "Collecting dash-bootstrap-components\n",
      "  Downloading dash_bootstrap_components-1.2.1-py3-none-any.whl (216 kB)\n",
      "Requirement already satisfied: openpyxl in c:\\users\\atanu\\anaconda3\\lib\\site-packages (from dtale) (3.0.9)\n",
      "Requirement already satisfied: Flask in c:\\users\\atanu\\anaconda3\\lib\\site-packages (from dtale) (1.1.2)\n",
      "Requirement already satisfied: requests in c:\\users\\atanu\\anaconda3\\lib\\site-packages (from dtale) (2.26.0)\n",
      "Requirement already satisfied: pandas in c:\\users\\atanu\\anaconda3\\lib\\site-packages (from dtale) (1.3.4)\n",
      "Collecting dash-daq\n",
      "  Downloading dash_daq-0.5.0.tar.gz (642 kB)\n",
      "Requirement already satisfied: networkx in c:\\users\\atanu\\anaconda3\\lib\\site-packages (from dtale) (2.6.3)\n",
      "Collecting lz4\n",
      "  Downloading lz4-4.0.2-cp39-cp39-win_amd64.whl (98 kB)\n",
      "Requirement already satisfied: cycler in c:\\users\\atanu\\anaconda3\\lib\\site-packages (from dtale) (0.10.0)\n",
      "Collecting kaleido\n",
      "  Downloading kaleido-0.2.1-py2.py3-none-win_amd64.whl (65.9 MB)\n",
      "Collecting dash-colorscales\n",
      "  Downloading dash_colorscales-0.0.4.tar.gz (62 kB)\n",
      "Collecting dash-table==5.0.0\n",
      "  Downloading dash_table-5.0.0-py3-none-any.whl (3.9 kB)\n",
      "Collecting dash-core-components==2.0.0\n",
      "  Downloading dash_core_components-2.0.0-py3-none-any.whl (3.8 kB)\n",
      "Collecting dash-html-components==2.0.0\n",
      "  Downloading dash_html_components-2.0.0-py3-none-any.whl (4.1 kB)\n",
      "Requirement already satisfied: click>=5.1 in c:\\users\\atanu\\anaconda3\\lib\\site-packages (from Flask->dtale) (8.0.3)\n",
      "Requirement already satisfied: Werkzeug>=0.15 in c:\\users\\atanu\\anaconda3\\lib\\site-packages (from Flask->dtale) (2.0.2)\n",
      "Requirement already satisfied: Jinja2>=2.10.1 in c:\\users\\atanu\\anaconda3\\lib\\site-packages (from Flask->dtale) (2.11.3)\n",
      "Requirement already satisfied: colorama in c:\\users\\atanu\\anaconda3\\lib\\site-packages (from click>=5.1->Flask->dtale) (0.4.4)\n",
      "Requirement already satisfied: MarkupSafe>=0.23 in c:\\users\\atanu\\anaconda3\\lib\\site-packages (from Jinja2>=2.10.1->Flask->dtale) (2.0.1)\n",
      "Requirement already satisfied: tenacity>=6.2.0 in c:\\users\\atanu\\anaconda3\\lib\\site-packages (from plotly>=5.0.0->dtale) (8.0.1)\n",
      "Collecting brotli\n",
      "  Downloading Brotli-1.0.9-cp39-cp39-win_amd64.whl (383 kB)\n",
      "Requirement already satisfied: kiwisolver>=1.0.1 in c:\\users\\atanu\\anaconda3\\lib\\site-packages (from matplotlib->dtale) (1.3.1)\n",
      "Requirement already satisfied: pillow>=6.2.0 in c:\\users\\atanu\\anaconda3\\lib\\site-packages (from matplotlib->dtale) (8.4.0)\n",
      "Requirement already satisfied: python-dateutil>=2.7 in c:\\users\\atanu\\anaconda3\\lib\\site-packages (from matplotlib->dtale) (2.8.2)\n",
      "Requirement already satisfied: pyparsing>=2.2.1 in c:\\users\\atanu\\anaconda3\\lib\\site-packages (from matplotlib->dtale) (3.0.4)\n",
      "Requirement already satisfied: pytz>=2017.3 in c:\\users\\atanu\\anaconda3\\lib\\site-packages (from pandas->dtale) (2021.3)\n",
      "Requirement already satisfied: idna<4,>=2.5 in c:\\users\\atanu\\anaconda3\\lib\\site-packages (from requests->dtale) (3.2)\n",
      "Requirement already satisfied: charset-normalizer~=2.0.0 in c:\\users\\atanu\\anaconda3\\lib\\site-packages (from requests->dtale) (2.0.4)\n",
      "Requirement already satisfied: urllib3<1.27,>=1.21.1 in c:\\users\\atanu\\anaconda3\\lib\\site-packages (from requests->dtale) (1.26.7)\n",
      "Requirement already satisfied: threadpoolctl>=2.0.0 in c:\\users\\atanu\\anaconda3\\lib\\site-packages (from scikit-learn->dtale) (2.2.0)\n",
      "Requirement already satisfied: joblib>=0.11 in c:\\users\\atanu\\anaconda3\\lib\\site-packages (from scikit-learn->dtale) (1.1.0)\n",
      "Requirement already satisfied: patsy>=0.5 in c:\\users\\atanu\\anaconda3\\lib\\site-packages (from statsmodels->dtale) (0.5.2)\n",
      "Requirement already satisfied: packaging>=20.0 in c:\\users\\atanu\\anaconda3\\lib\\site-packages (from xarray->dtale) (21.0)\n",
      "Building wheels for collected packages: dash-colorscales, dash-daq\n",
      "  Building wheel for dash-colorscales (setup.py): started\n",
      "  Building wheel for dash-colorscales (setup.py): finished with status 'done'\n",
      "  Created wheel for dash-colorscales: filename=dash_colorscales-0.0.4-py3-none-any.whl size=62589 sha256=fbbcbddd7ad6fa0934720c0839c1bee7a6e2d574f6152b1ec10f2a7dfb1e490b\n",
      "  Stored in directory: c:\\users\\atanu\\appdata\\local\\pip\\cache\\wheels\\ec\\32\\ec\\dc8a1aa820182edf280a5e26c76fc9493ae29e196735708de2\n",
      "  Building wheel for dash-daq (setup.py): started\n",
      "  Building wheel for dash-daq (setup.py): finished with status 'done'\n",
      "  Created wheel for dash-daq: filename=dash_daq-0.5.0-py3-none-any.whl size=669716 sha256=837f343a3c7538b5bb90f4c61d887e0e642c187bc5e7f50837314e9062ba2cf5\n",
      "  Stored in directory: c:\\users\\atanu\\appdata\\local\\pip\\cache\\wheels\\53\\73\\ea\\8a422aab5cab848d88653ed3087c1fa05553c3fbd67fb6ab75\n",
      "Successfully built dash-colorscales dash-daq\n",
      "Installing collected packages: brotli, Flask-Compress, dash-table, dash-html-components, dash-core-components, dash, xarray, strsimpy, squarify, missingno, lz4, kaleido, flask-ngrok, dash-daq, dash-colorscales, dash-bootstrap-components, dtale\n",
      "  Attempting uninstall: missingno\n",
      "    Found existing installation: missingno 0.5.1\n",
      "    Uninstalling missingno-0.5.1:\n",
      "      Successfully uninstalled missingno-0.5.1\n",
      "Successfully installed Flask-Compress-1.13 brotli-1.0.9 dash-2.6.1 dash-bootstrap-components-1.2.1 dash-colorscales-0.0.4 dash-core-components-2.0.0 dash-daq-0.5.0 dash-html-components-2.0.0 dash-table-5.0.0 dtale-2.8.1 flask-ngrok-0.0.25 kaleido-0.2.1 lz4-4.0.2 missingno-0.4.2 squarify-0.4.3 strsimpy-0.2.1 xarray-2022.6.0\n"
     ]
    }
   ],
   "source": [
    "## dtale\n",
    "!pip install dtale"
   ]
  },
  {
   "cell_type": "code",
   "execution_count": 3,
   "id": "c839c10a",
   "metadata": {},
   "outputs": [],
   "source": [
    "import pandas as pd\n",
    "import seaborn as sns"
   ]
  },
  {
   "cell_type": "code",
   "execution_count": 6,
   "id": "f7051056",
   "metadata": {},
   "outputs": [],
   "source": [
    "df=sns.load_dataset('titanic')"
   ]
  },
  {
   "cell_type": "code",
   "execution_count": 1,
   "id": "74841bd6",
   "metadata": {},
   "outputs": [
    {
     "name": "stdout",
     "output_type": "stream",
     "text": [
      "Requirement already satisfied: numpy==1.21.6 in c:\\users\\atanu\\anaconda3\\lib\\site-packages (1.21.6)\n"
     ]
    }
   ],
   "source": [
    "!pip install numpy==1.21.6"
   ]
  },
  {
   "cell_type": "code",
   "execution_count": 7,
   "id": "f3cfdc82",
   "metadata": {
    "scrolled": true
   },
   "outputs": [
    {
     "data": {
      "text/html": [
       "\n",
       "        <iframe\n",
       "            width=\"100%\"\n",
       "            height=\"475\"\n",
       "            src=\"http://DESKTOP-4M89JMI:40000/dtale/iframe/1\"\n",
       "            frameborder=\"0\"\n",
       "            allowfullscreen\n",
       "            \n",
       "        ></iframe>\n",
       "        "
      ],
      "text/plain": [
       "<IPython.lib.display.IFrame at 0x255ca109d30>"
      ]
     },
     "metadata": {},
     "output_type": "display_data"
    },
    {
     "data": {
      "text/plain": []
     },
     "execution_count": 7,
     "metadata": {},
     "output_type": "execute_result"
    }
   ],
   "source": [
    "import dtale\n",
    "dtale.show(df)"
   ]
  },
  {
   "cell_type": "code",
   "execution_count": 8,
   "id": "ebb723db",
   "metadata": {},
   "outputs": [
    {
     "name": "stdout",
     "output_type": "stream",
     "text": [
      "Collecting sweetviz\n",
      "  Downloading sweetviz-2.1.4-py3-none-any.whl (15.1 MB)\n",
      "Requirement already satisfied: scipy>=1.3.2 in c:\\users\\atanu\\anaconda3\\lib\\site-packages (from sweetviz) (1.7.1)\n",
      "Requirement already satisfied: tqdm>=4.43.0 in c:\\users\\atanu\\anaconda3\\lib\\site-packages (from sweetviz) (4.62.3)\n",
      "Collecting importlib-resources>=1.2.0\n",
      "  Downloading importlib_resources-5.9.0-py3-none-any.whl (33 kB)\n",
      "Requirement already satisfied: matplotlib>=3.1.3 in c:\\users\\atanu\\anaconda3\\lib\\site-packages (from sweetviz) (3.4.3)\n",
      "Requirement already satisfied: numpy>=1.16.0 in c:\\users\\atanu\\anaconda3\\lib\\site-packages (from sweetviz) (1.21.6)\n",
      "Requirement already satisfied: pandas!=1.0.0,!=1.0.1,!=1.0.2,>=0.25.3 in c:\\users\\atanu\\anaconda3\\lib\\site-packages (from sweetviz) (1.3.4)\n",
      "Requirement already satisfied: jinja2>=2.11.1 in c:\\users\\atanu\\anaconda3\\lib\\site-packages (from sweetviz) (2.11.3)\n",
      "Requirement already satisfied: zipp>=3.1.0 in c:\\users\\atanu\\anaconda3\\lib\\site-packages (from importlib-resources>=1.2.0->sweetviz) (3.6.0)\n",
      "Requirement already satisfied: MarkupSafe>=0.23 in c:\\users\\atanu\\anaconda3\\lib\\site-packages (from jinja2>=2.11.1->sweetviz) (2.0.1)\n",
      "Requirement already satisfied: kiwisolver>=1.0.1 in c:\\users\\atanu\\anaconda3\\lib\\site-packages (from matplotlib>=3.1.3->sweetviz) (1.3.1)\n",
      "Requirement already satisfied: cycler>=0.10 in c:\\users\\atanu\\anaconda3\\lib\\site-packages (from matplotlib>=3.1.3->sweetviz) (0.10.0)\n",
      "Requirement already satisfied: pyparsing>=2.2.1 in c:\\users\\atanu\\anaconda3\\lib\\site-packages (from matplotlib>=3.1.3->sweetviz) (3.0.4)\n",
      "Requirement already satisfied: pillow>=6.2.0 in c:\\users\\atanu\\anaconda3\\lib\\site-packages (from matplotlib>=3.1.3->sweetviz) (8.4.0)\n",
      "Requirement already satisfied: python-dateutil>=2.7 in c:\\users\\atanu\\anaconda3\\lib\\site-packages (from matplotlib>=3.1.3->sweetviz) (2.8.2)\n",
      "Requirement already satisfied: six in c:\\users\\atanu\\anaconda3\\lib\\site-packages (from cycler>=0.10->matplotlib>=3.1.3->sweetviz) (1.16.0)\n",
      "Requirement already satisfied: pytz>=2017.3 in c:\\users\\atanu\\anaconda3\\lib\\site-packages (from pandas!=1.0.0,!=1.0.1,!=1.0.2,>=0.25.3->sweetviz) (2021.3)\n",
      "Requirement already satisfied: colorama in c:\\users\\atanu\\anaconda3\\lib\\site-packages (from tqdm>=4.43.0->sweetviz) (0.4.4)\n",
      "Installing collected packages: importlib-resources, sweetviz\n",
      "Successfully installed importlib-resources-5.9.0 sweetviz-2.1.4\n"
     ]
    }
   ],
   "source": [
    "!pip install sweetviz"
   ]
  },
  {
   "cell_type": "code",
   "execution_count": 11,
   "id": "0ece19e6",
   "metadata": {},
   "outputs": [
    {
     "data": {
      "application/vnd.jupyter.widget-view+json": {
       "model_id": "71bbd9b460034ee481cc09018d5a83f7",
       "version_major": 2,
       "version_minor": 0
      },
      "text/plain": [
       "                                             |                                             | [  0%]   00:00 ->…"
      ]
     },
     "metadata": {},
     "output_type": "display_data"
    },
    {
     "name": "stdout",
     "output_type": "stream",
     "text": [
      "Report newreport.html was generated! NOTEBOOK/COLAB USERS: the web browser MAY not pop up, regardless, the report IS saved in your notebook/colab files.\n"
     ]
    }
   ],
   "source": [
    "import sweetviz as sv\n",
    "report=sv.analyze(df)\n",
    "report.show_html('newreport.html')"
   ]
  },
  {
   "cell_type": "code",
   "execution_count": 16,
   "id": "cb87bc56",
   "metadata": {},
   "outputs": [
    {
     "name": "stdout",
     "output_type": "stream",
     "text": [
      "Collecting dataprep"
     ]
    },
    {
     "name": "stderr",
     "output_type": "stream",
     "text": [
      "ERROR: Could not install packages due to an OSError: [WinError 5] Access is denied: 'C:\\\\Users\\\\Atanu\\\\anaconda3\\\\Lib\\\\site-packages\\\\~cipy\\\\cluster\\\\_hierarchy.cp39-win_amd64.pyd'\n",
      "Consider using the `--user` option or check the permissions.\n",
      "\n"
     ]
    },
    {
     "name": "stdout",
     "output_type": "stream",
     "text": [
      "\n",
      "  Using cached dataprep-0.4.5-py3-none-any.whl (9.9 MB)\n",
      "Requirement already satisfied: bokeh<3,>=2 in c:\\users\\atanu\\anaconda3\\lib\\site-packages (from dataprep) (2.4.1)\n",
      "Collecting sqlalchemy==1.3.24\n",
      "  Using cached SQLAlchemy-1.3.24-cp39-cp39-win_amd64.whl (1.2 MB)\n",
      "Collecting dask[array,dataframe,delayed]>=2022.3.0\n",
      "  Using cached dask-2022.9.1-py3-none-any.whl (1.1 MB)\n",
      "Collecting jinja2<3.1,>=3.0\n",
      "  Using cached Jinja2-3.0.3-py3-none-any.whl (133 kB)\n",
      "Collecting scipy<2.0,>=1.8\n",
      "  Using cached scipy-1.9.1-cp39-cp39-win_amd64.whl (38.6 MB)\n",
      "Collecting nltk<4.0.0,>=3.6.7\n",
      "  Using cached nltk-3.7-py3-none-any.whl (1.5 MB)\n",
      "Collecting jsonpath-ng<2.0,>=1.5\n",
      "  Using cached jsonpath_ng-1.5.3-py3-none-any.whl (29 kB)\n",
      "Requirement already satisfied: pydantic<2.0,>=1.6 in c:\\users\\atanu\\anaconda3\\lib\\site-packages (from dataprep) (1.9.1)\n",
      "Collecting python-stdnum<2.0,>=1.16\n",
      "  Using cached python_stdnum-1.17-py2.py3-none-any.whl (943 kB)\n",
      "Requirement already satisfied: ipywidgets<8.0,>=7.5 in c:\\users\\atanu\\anaconda3\\lib\\site-packages (from dataprep) (7.6.5)\n",
      "Requirement already satisfied: tqdm<5.0,>=4.48 in c:\\users\\atanu\\anaconda3\\lib\\site-packages (from dataprep) (4.62.3)\n",
      "Collecting python-crfsuite==0.9.8\n",
      "  Using cached python_crfsuite-0.9.8-cp39-cp39-win_amd64.whl (158 kB)\n",
      "Requirement already satisfied: regex<2022.0.0,>=2021.8.3 in c:\\users\\atanu\\anaconda3\\lib\\site-packages (from dataprep) (2021.8.3)\n",
      "Requirement already satisfied: flask_cors<4.0.0,>=3.0.10 in c:\\users\\atanu\\anaconda3\\lib\\site-packages (from dataprep) (3.0.10)\n",
      "Collecting wordcloud<2.0,>=1.8\n",
      "  Using cached wordcloud-1.8.2.2-cp39-cp39-win_amd64.whl (153 kB)\n",
      "Collecting rapidfuzz<3.0.0,>=2.1.2\n",
      "  Using cached rapidfuzz-2.10.0-cp39-cp39-win_amd64.whl (917 kB)\n",
      "Collecting pydot<2.0.0,>=1.4.2\n",
      "  Using cached pydot-1.4.2-py2.py3-none-any.whl (21 kB)\n",
      "Requirement already satisfied: numpy<2.0,>=1.21 in c:\\users\\atanu\\anaconda3\\lib\\site-packages (from dataprep) (1.21.6)\n",
      "Collecting flask<3,>=2\n",
      "  Using cached Flask-2.2.2-py3-none-any.whl (101 kB)\n",
      "Collecting varname<0.9.0,>=0.8.1\n",
      "  Using cached varname-0.8.3-py3-none-any.whl (21 kB)\n",
      "Collecting aiohttp<4.0,>=3.6\n",
      "  Using cached aiohttp-3.8.3-cp39-cp39-win_amd64.whl (323 kB)\n",
      "Requirement already satisfied: pandas<2.0,>=1.1 in c:\\users\\atanu\\anaconda3\\lib\\site-packages (from dataprep) (1.3.4)\n",
      "Collecting metaphone<0.7,>=0.6\n",
      "  Using cached Metaphone-0.6-py3-none-any.whl\n",
      "Requirement already satisfied: attrs>=17.3.0 in c:\\users\\atanu\\anaconda3\\lib\\site-packages (from aiohttp<4.0,>=3.6->dataprep) (21.2.0)\n",
      "Collecting yarl<2.0,>=1.0\n",
      "  Using cached yarl-1.8.1-cp39-cp39-win_amd64.whl (56 kB)\n",
      "Collecting multidict<7.0,>=4.5\n",
      "  Using cached multidict-6.0.2-cp39-cp39-win_amd64.whl (28 kB)\n",
      "Requirement already satisfied: charset-normalizer<3.0,>=2.0 in c:\\users\\atanu\\anaconda3\\lib\\site-packages (from aiohttp<4.0,>=3.6->dataprep) (2.0.4)\n",
      "Collecting frozenlist>=1.1.1\n",
      "  Using cached frozenlist-1.3.1-cp39-cp39-win_amd64.whl (34 kB)\n",
      "Collecting aiosignal>=1.1.2\n",
      "  Using cached aiosignal-1.2.0-py3-none-any.whl (8.2 kB)\n",
      "Requirement already satisfied: async-timeout<5.0,>=4.0.0a3 in c:\\users\\atanu\\anaconda3\\lib\\site-packages (from aiohttp<4.0,>=3.6->dataprep) (4.0.2)\n",
      "Requirement already satisfied: packaging>=16.8 in c:\\users\\atanu\\anaconda3\\lib\\site-packages (from bokeh<3,>=2->dataprep) (21.0)\n",
      "Requirement already satisfied: tornado>=5.1 in c:\\users\\atanu\\anaconda3\\lib\\site-packages (from bokeh<3,>=2->dataprep) (6.1)\n",
      "Requirement already satisfied: PyYAML>=3.10 in c:\\users\\atanu\\anaconda3\\lib\\site-packages (from bokeh<3,>=2->dataprep) (6.0)\n",
      "Requirement already satisfied: typing-extensions>=3.10.0 in c:\\users\\atanu\\anaconda3\\lib\\site-packages (from bokeh<3,>=2->dataprep) (3.10.0.2)\n",
      "Requirement already satisfied: pillow>=7.1.0 in c:\\users\\atanu\\anaconda3\\lib\\site-packages (from bokeh<3,>=2->dataprep) (8.4.0)\n",
      "Requirement already satisfied: cloudpickle>=1.1.1 in c:\\users\\atanu\\anaconda3\\lib\\site-packages (from dask[array,dataframe,delayed]>=2022.3.0->dataprep) (2.0.0)\n",
      "Requirement already satisfied: toolz>=0.8.2 in c:\\users\\atanu\\anaconda3\\lib\\site-packages (from dask[array,dataframe,delayed]>=2022.3.0->dataprep) (0.11.1)\n",
      "Requirement already satisfied: fsspec>=0.6.0 in c:\\users\\atanu\\anaconda3\\lib\\site-packages (from dask[array,dataframe,delayed]>=2022.3.0->dataprep) (2021.10.1)\n",
      "Requirement already satisfied: partd>=0.3.10 in c:\\users\\atanu\\anaconda3\\lib\\site-packages (from dask[array,dataframe,delayed]>=2022.3.0->dataprep) (1.2.0)\n",
      "Collecting Werkzeug>=2.2.2\n",
      "  Using cached Werkzeug-2.2.2-py3-none-any.whl (232 kB)\n",
      "Requirement already satisfied: itsdangerous>=2.0 in c:\\users\\atanu\\anaconda3\\lib\\site-packages (from flask<3,>=2->dataprep) (2.0.1)\n",
      "Requirement already satisfied: importlib-metadata>=3.6.0 in c:\\users\\atanu\\anaconda3\\lib\\site-packages (from flask<3,>=2->dataprep) (4.8.1)\n",
      "Requirement already satisfied: click>=8.0 in c:\\users\\atanu\\anaconda3\\lib\\site-packages (from flask<3,>=2->dataprep) (8.0.3)\n",
      "Requirement already satisfied: colorama in c:\\users\\atanu\\anaconda3\\lib\\site-packages (from click>=8.0->flask<3,>=2->dataprep) (0.4.4)\n",
      "Requirement already satisfied: Six in c:\\users\\atanu\\anaconda3\\lib\\site-packages (from flask_cors<4.0.0,>=3.0.10->dataprep) (1.16.0)\n",
      "Requirement already satisfied: zipp>=0.5 in c:\\users\\atanu\\anaconda3\\lib\\site-packages (from importlib-metadata>=3.6.0->flask<3,>=2->dataprep) (3.6.0)\n",
      "Requirement already satisfied: jupyterlab-widgets>=1.0.0 in c:\\users\\atanu\\anaconda3\\lib\\site-packages (from ipywidgets<8.0,>=7.5->dataprep) (1.0.0)\n",
      "Requirement already satisfied: ipython>=4.0.0 in c:\\users\\atanu\\anaconda3\\lib\\site-packages (from ipywidgets<8.0,>=7.5->dataprep) (7.29.0)\n",
      "Requirement already satisfied: traitlets>=4.3.1 in c:\\users\\atanu\\anaconda3\\lib\\site-packages (from ipywidgets<8.0,>=7.5->dataprep) (5.1.0)\n",
      "Requirement already satisfied: ipykernel>=4.5.1 in c:\\users\\atanu\\anaconda3\\lib\\site-packages (from ipywidgets<8.0,>=7.5->dataprep) (6.4.1)\n",
      "Requirement already satisfied: nbformat>=4.2.0 in c:\\users\\atanu\\anaconda3\\lib\\site-packages (from ipywidgets<8.0,>=7.5->dataprep) (5.1.3)\n",
      "Requirement already satisfied: ipython-genutils~=0.2.0 in c:\\users\\atanu\\anaconda3\\lib\\site-packages (from ipywidgets<8.0,>=7.5->dataprep) (0.2.0)\n",
      "Requirement already satisfied: widgetsnbextension~=3.5.0 in c:\\users\\atanu\\anaconda3\\lib\\site-packages (from ipywidgets<8.0,>=7.5->dataprep) (3.5.1)\n",
      "Requirement already satisfied: matplotlib-inline<0.2.0,>=0.1.0 in c:\\users\\atanu\\anaconda3\\lib\\site-packages (from ipykernel>=4.5.1->ipywidgets<8.0,>=7.5->dataprep) (0.1.2)\n",
      "Requirement already satisfied: debugpy<2.0,>=1.0.0 in c:\\users\\atanu\\anaconda3\\lib\\site-packages (from ipykernel>=4.5.1->ipywidgets<8.0,>=7.5->dataprep) (1.4.1)\n",
      "Requirement already satisfied: jupyter-client<8.0 in c:\\users\\atanu\\anaconda3\\lib\\site-packages (from ipykernel>=4.5.1->ipywidgets<8.0,>=7.5->dataprep) (6.1.12)\n",
      "Requirement already satisfied: backcall in c:\\users\\atanu\\anaconda3\\lib\\site-packages (from ipython>=4.0.0->ipywidgets<8.0,>=7.5->dataprep) (0.2.0)\n",
      "Requirement already satisfied: pygments in c:\\users\\atanu\\anaconda3\\lib\\site-packages (from ipython>=4.0.0->ipywidgets<8.0,>=7.5->dataprep) (2.10.0)\n",
      "Requirement already satisfied: setuptools>=18.5 in c:\\users\\atanu\\anaconda3\\lib\\site-packages (from ipython>=4.0.0->ipywidgets<8.0,>=7.5->dataprep) (58.0.4)\n",
      "Requirement already satisfied: jedi>=0.16 in c:\\users\\atanu\\anaconda3\\lib\\site-packages (from ipython>=4.0.0->ipywidgets<8.0,>=7.5->dataprep) (0.18.0)\n",
      "Requirement already satisfied: decorator in c:\\users\\atanu\\anaconda3\\lib\\site-packages (from ipython>=4.0.0->ipywidgets<8.0,>=7.5->dataprep) (5.1.0)\n",
      "Requirement already satisfied: pickleshare in c:\\users\\atanu\\anaconda3\\lib\\site-packages (from ipython>=4.0.0->ipywidgets<8.0,>=7.5->dataprep) (0.7.5)\n",
      "Requirement already satisfied: prompt-toolkit!=3.0.0,!=3.0.1,<3.1.0,>=2.0.0 in c:\\users\\atanu\\anaconda3\\lib\\site-packages (from ipython>=4.0.0->ipywidgets<8.0,>=7.5->dataprep) (3.0.20)\n",
      "Requirement already satisfied: parso<0.9.0,>=0.8.0 in c:\\users\\atanu\\anaconda3\\lib\\site-packages (from jedi>=0.16->ipython>=4.0.0->ipywidgets<8.0,>=7.5->dataprep) (0.8.2)\n",
      "Requirement already satisfied: MarkupSafe>=2.0 in c:\\users\\atanu\\anaconda3\\lib\\site-packages (from jinja2<3.1,>=3.0->dataprep) (2.0.1)\n",
      "Requirement already satisfied: ply in c:\\users\\atanu\\anaconda3\\lib\\site-packages (from jsonpath-ng<2.0,>=1.5->dataprep) (3.11)\n",
      "Requirement already satisfied: python-dateutil>=2.1 in c:\\users\\atanu\\anaconda3\\lib\\site-packages (from jupyter-client<8.0->ipykernel>=4.5.1->ipywidgets<8.0,>=7.5->dataprep) (2.8.2)\n",
      "Requirement already satisfied: jupyter-core>=4.6.0 in c:\\users\\atanu\\anaconda3\\lib\\site-packages (from jupyter-client<8.0->ipykernel>=4.5.1->ipywidgets<8.0,>=7.5->dataprep) (4.8.1)\n",
      "Requirement already satisfied: pyzmq>=13 in c:\\users\\atanu\\anaconda3\\lib\\site-packages (from jupyter-client<8.0->ipykernel>=4.5.1->ipywidgets<8.0,>=7.5->dataprep) (22.2.1)\n",
      "Requirement already satisfied: pywin32>=1.0 in c:\\users\\atanu\\anaconda3\\lib\\site-packages (from jupyter-core>=4.6.0->jupyter-client<8.0->ipykernel>=4.5.1->ipywidgets<8.0,>=7.5->dataprep) (228)\n",
      "Requirement already satisfied: jsonschema!=2.5.0,>=2.4 in c:\\users\\atanu\\anaconda3\\lib\\site-packages (from nbformat>=4.2.0->ipywidgets<8.0,>=7.5->dataprep) (3.2.0)\n",
      "Requirement already satisfied: pyrsistent>=0.14.0 in c:\\users\\atanu\\anaconda3\\lib\\site-packages (from jsonschema!=2.5.0,>=2.4->nbformat>=4.2.0->ipywidgets<8.0,>=7.5->dataprep) (0.18.0)\n",
      "Requirement already satisfied: joblib in c:\\users\\atanu\\anaconda3\\lib\\site-packages (from nltk<4.0.0,>=3.6.7->dataprep) (1.1.0)\n",
      "Requirement already satisfied: pyparsing>=2.0.2 in c:\\users\\atanu\\anaconda3\\lib\\site-packages (from packaging>=16.8->bokeh<3,>=2->dataprep) (3.0.4)\n",
      "Requirement already satisfied: pytz>=2017.3 in c:\\users\\atanu\\anaconda3\\lib\\site-packages (from pandas<2.0,>=1.1->dataprep) (2021.3)\n",
      "Requirement already satisfied: locket in c:\\users\\atanu\\anaconda3\\lib\\site-packages\\locket-0.2.1-py3.9.egg (from partd>=0.3.10->dask[array,dataframe,delayed]>=2022.3.0->dataprep) (0.2.1)\n",
      "Requirement already satisfied: wcwidth in c:\\users\\atanu\\anaconda3\\lib\\site-packages (from prompt-toolkit!=3.0.0,!=3.0.1,<3.1.0,>=2.0.0->ipython>=4.0.0->ipywidgets<8.0,>=7.5->dataprep) (0.2.5)\n",
      "Collecting jarowinkler<2.0.0,>=1.2.0\n",
      "  Using cached jarowinkler-1.2.1-cp39-cp39-win_amd64.whl (61 kB)\n",
      "Collecting asttokens<3.0.0,>=2.0.0\n",
      "  Using cached asttokens-2.0.8-py2.py3-none-any.whl (23 kB)\n",
      "Collecting executing<0.9.0,>=0.8.3\n",
      "  Using cached executing-0.8.3-py2.py3-none-any.whl (16 kB)\n",
      "Collecting pure_eval<1.0.0\n",
      "  Using cached pure_eval-0.2.2-py3-none-any.whl (11 kB)\n",
      "Collecting MarkupSafe>=2.0\n",
      "  Using cached MarkupSafe-2.1.1-cp39-cp39-win_amd64.whl (17 kB)\n",
      "Requirement already satisfied: notebook>=4.4.1 in c:\\users\\atanu\\anaconda3\\lib\\site-packages (from widgetsnbextension~=3.5.0->ipywidgets<8.0,>=7.5->dataprep) (6.4.5)\n",
      "Requirement already satisfied: Send2Trash>=1.5.0 in c:\\users\\atanu\\anaconda3\\lib\\site-packages (from notebook>=4.4.1->widgetsnbextension~=3.5.0->ipywidgets<8.0,>=7.5->dataprep) (1.8.0)\n",
      "Requirement already satisfied: argon2-cffi in c:\\users\\atanu\\anaconda3\\lib\\site-packages (from notebook>=4.4.1->widgetsnbextension~=3.5.0->ipywidgets<8.0,>=7.5->dataprep) (20.1.0)\n",
      "Requirement already satisfied: nbconvert in c:\\users\\atanu\\anaconda3\\lib\\site-packages (from notebook>=4.4.1->widgetsnbextension~=3.5.0->ipywidgets<8.0,>=7.5->dataprep) (6.1.0)\n",
      "Requirement already satisfied: prometheus-client in c:\\users\\atanu\\anaconda3\\lib\\site-packages (from notebook>=4.4.1->widgetsnbextension~=3.5.0->ipywidgets<8.0,>=7.5->dataprep) (0.11.0)\n",
      "Requirement already satisfied: terminado>=0.8.3 in c:\\users\\atanu\\anaconda3\\lib\\site-packages (from notebook>=4.4.1->widgetsnbextension~=3.5.0->ipywidgets<8.0,>=7.5->dataprep) (0.9.4)\n",
      "Requirement already satisfied: pywinpty>=0.5 in c:\\users\\atanu\\anaconda3\\lib\\site-packages (from terminado>=0.8.3->notebook>=4.4.1->widgetsnbextension~=3.5.0->ipywidgets<8.0,>=7.5->dataprep) (0.5.7)\n",
      "Requirement already satisfied: matplotlib in c:\\users\\atanu\\anaconda3\\lib\\site-packages (from wordcloud<2.0,>=1.8->dataprep) (3.4.3)\n",
      "Requirement already satisfied: idna>=2.0 in c:\\users\\atanu\\anaconda3\\lib\\site-packages (from yarl<2.0,>=1.0->aiohttp<4.0,>=3.6->dataprep) (3.2)\n",
      "Requirement already satisfied: cffi>=1.0.0 in c:\\users\\atanu\\anaconda3\\lib\\site-packages (from argon2-cffi->notebook>=4.4.1->widgetsnbextension~=3.5.0->ipywidgets<8.0,>=7.5->dataprep) (1.14.6)\n",
      "Requirement already satisfied: pycparser in c:\\users\\atanu\\anaconda3\\lib\\site-packages (from cffi>=1.0.0->argon2-cffi->notebook>=4.4.1->widgetsnbextension~=3.5.0->ipywidgets<8.0,>=7.5->dataprep) (2.20)\n",
      "Requirement already satisfied: cycler>=0.10 in c:\\users\\atanu\\anaconda3\\lib\\site-packages (from matplotlib->wordcloud<2.0,>=1.8->dataprep) (0.10.0)\n",
      "Requirement already satisfied: kiwisolver>=1.0.1 in c:\\users\\atanu\\anaconda3\\lib\\site-packages (from matplotlib->wordcloud<2.0,>=1.8->dataprep) (1.3.1)\n",
      "Requirement already satisfied: defusedxml in c:\\users\\atanu\\anaconda3\\lib\\site-packages (from nbconvert->notebook>=4.4.1->widgetsnbextension~=3.5.0->ipywidgets<8.0,>=7.5->dataprep) (0.7.1)\n",
      "Requirement already satisfied: pandocfilters>=1.4.1 in c:\\users\\atanu\\anaconda3\\lib\\site-packages (from nbconvert->notebook>=4.4.1->widgetsnbextension~=3.5.0->ipywidgets<8.0,>=7.5->dataprep) (1.4.3)\n",
      "Requirement already satisfied: bleach in c:\\users\\atanu\\anaconda3\\lib\\site-packages (from nbconvert->notebook>=4.4.1->widgetsnbextension~=3.5.0->ipywidgets<8.0,>=7.5->dataprep) (4.0.0)\n",
      "Requirement already satisfied: entrypoints>=0.2.2 in c:\\users\\atanu\\anaconda3\\lib\\site-packages (from nbconvert->notebook>=4.4.1->widgetsnbextension~=3.5.0->ipywidgets<8.0,>=7.5->dataprep) (0.3)\n",
      "Requirement already satisfied: mistune<2,>=0.8.1 in c:\\users\\atanu\\anaconda3\\lib\\site-packages (from nbconvert->notebook>=4.4.1->widgetsnbextension~=3.5.0->ipywidgets<8.0,>=7.5->dataprep) (0.8.4)\n",
      "Requirement already satisfied: testpath in c:\\users\\atanu\\anaconda3\\lib\\site-packages (from nbconvert->notebook>=4.4.1->widgetsnbextension~=3.5.0->ipywidgets<8.0,>=7.5->dataprep) (0.5.0)\n",
      "Requirement already satisfied: jupyterlab-pygments in c:\\users\\atanu\\anaconda3\\lib\\site-packages (from nbconvert->notebook>=4.4.1->widgetsnbextension~=3.5.0->ipywidgets<8.0,>=7.5->dataprep) (0.1.2)\n",
      "Requirement already satisfied: nbclient<0.6.0,>=0.5.0 in c:\\users\\atanu\\anaconda3\\lib\\site-packages (from nbconvert->notebook>=4.4.1->widgetsnbextension~=3.5.0->ipywidgets<8.0,>=7.5->dataprep) (0.5.3)\n",
      "Requirement already satisfied: nest-asyncio in c:\\users\\atanu\\anaconda3\\lib\\site-packages (from nbclient<0.6.0,>=0.5.0->nbconvert->notebook>=4.4.1->widgetsnbextension~=3.5.0->ipywidgets<8.0,>=7.5->dataprep) (1.5.1)\n",
      "Requirement already satisfied: async-generator in c:\\users\\atanu\\anaconda3\\lib\\site-packages (from nbclient<0.6.0,>=0.5.0->nbconvert->notebook>=4.4.1->widgetsnbextension~=3.5.0->ipywidgets<8.0,>=7.5->dataprep) (1.10)\n",
      "Requirement already satisfied: webencodings in c:\\users\\atanu\\anaconda3\\lib\\site-packages (from bleach->nbconvert->notebook>=4.4.1->widgetsnbextension~=3.5.0->ipywidgets<8.0,>=7.5->dataprep) (0.5.1)\n",
      "Installing collected packages: MarkupSafe, jinja2, Werkzeug, multidict, frozenlist, yarl, pure-eval, jarowinkler, flask, executing, dask, asttokens, aiosignal, wordcloud, varname, sqlalchemy, scipy, rapidfuzz, python-stdnum, python-crfsuite, pydot, nltk, metaphone, jsonpath-ng, aiohttp, dataprep\n",
      "  Attempting uninstall: MarkupSafe\n",
      "    Found existing installation: MarkupSafe 2.0.1\n",
      "    Uninstalling MarkupSafe-2.0.1:\n",
      "      Successfully uninstalled MarkupSafe-2.0.1\n",
      "  Attempting uninstall: jinja2\n",
      "    Found existing installation: Jinja2 2.11.3\n",
      "    Uninstalling Jinja2-2.11.3:\n",
      "      Successfully uninstalled Jinja2-2.11.3\n",
      "  Attempting uninstall: Werkzeug\n",
      "    Found existing installation: Werkzeug 2.0.2\n",
      "    Uninstalling Werkzeug-2.0.2:\n",
      "      Successfully uninstalled Werkzeug-2.0.2\n",
      "  Attempting uninstall: flask\n",
      "    Found existing installation: Flask 1.1.2\n",
      "    Uninstalling Flask-1.1.2:\n",
      "      Successfully uninstalled Flask-1.1.2\n",
      "  Attempting uninstall: dask\n",
      "    Found existing installation: dask 2021.10.0\n",
      "    Uninstalling dask-2021.10.0:\n",
      "      Successfully uninstalled dask-2021.10.0\n",
      "  Attempting uninstall: sqlalchemy\n",
      "    Found existing installation: SQLAlchemy 1.4.22\n",
      "    Uninstalling SQLAlchemy-1.4.22:\n",
      "      Successfully uninstalled SQLAlchemy-1.4.22\n",
      "  Attempting uninstall: scipy\n",
      "    Found existing installation: scipy 1.7.1\n",
      "    Uninstalling scipy-1.7.1:\n",
      "      Successfully uninstalled scipy-1.7.1\n"
     ]
    }
   ],
   "source": [
    "!pip install dataprep"
   ]
  },
  {
   "cell_type": "code",
   "execution_count": 17,
   "id": "4747db4e",
   "metadata": {},
   "outputs": [
    {
     "ename": "ModuleNotFoundError",
     "evalue": "No module named 'dataprep'",
     "output_type": "error",
     "traceback": [
      "\u001b[1;31m---------------------------------------------------------------------------\u001b[0m",
      "\u001b[1;31mModuleNotFoundError\u001b[0m                       Traceback (most recent call last)",
      "\u001b[1;32m~\\AppData\\Local\\Temp/ipykernel_11088/3157974305.py\u001b[0m in \u001b[0;36m<module>\u001b[1;34m\u001b[0m\n\u001b[1;32m----> 1\u001b[1;33m \u001b[1;32mfrom\u001b[0m \u001b[0mdataprep\u001b[0m\u001b[1;33m.\u001b[0m\u001b[0meda\u001b[0m \u001b[1;32mimport\u001b[0m \u001b[0mcreate_report\u001b[0m\u001b[1;33m\u001b[0m\u001b[1;33m\u001b[0m\u001b[0m\n\u001b[0m",
      "\u001b[1;31mModuleNotFoundError\u001b[0m: No module named 'dataprep'"
     ]
    }
   ],
   "source": [
    "from dataprep.eda import create_report"
   ]
  },
  {
   "cell_type": "code",
   "execution_count": null,
   "id": "b6700440",
   "metadata": {},
   "outputs": [],
   "source": []
  }
 ],
 "metadata": {
  "kernelspec": {
   "display_name": "Python 3 (ipykernel)",
   "language": "python",
   "name": "python3"
  },
  "language_info": {
   "codemirror_mode": {
    "name": "ipython",
    "version": 3
   },
   "file_extension": ".py",
   "mimetype": "text/x-python",
   "name": "python",
   "nbconvert_exporter": "python",
   "pygments_lexer": "ipython3",
   "version": "3.9.7"
  }
 },
 "nbformat": 4,
 "nbformat_minor": 5
}
